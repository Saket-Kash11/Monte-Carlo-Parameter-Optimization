{
 "cells": [
  {
   "cell_type": "code",
   "execution_count": null,
   "metadata": {},
   "outputs": [],
   "source": [
    "import numpy as np\n",
    "import matplotlib.pyplot as plt\n",
    "import pandas as pd\n",
    "from scipy.interpolate import interp1d"
   ]
  },
  {
   "cell_type": "code",
   "execution_count": null,
   "metadata": {},
   "outputs": [],
   "source": [
    "df = pd.read_excel(\"Data/Group6_Data.xlsx\")\n",
    "time, mean = df.to_numpy().T\n",
    "df.head()"
   ]
  },
  {
   "cell_type": "code",
   "execution_count": null,
   "metadata": {},
   "outputs": [],
   "source": [
    "plt.figure(figsize=(10,4))\n",
    "plt.plot(time, mean, 'g')\n",
    "plt.xlabel(\"Time\")\n",
    "plt.ylabel(\"Signal Intensity\")\n",
    "plt.title(\"Signal: Mean\")\n",
    "plt.grid()\n",
    "plt.show()"
   ]
  },
  {
   "cell_type": "markdown",
   "metadata": {},
   "source": [
    "# **Data Preprocessing**"
   ]
  },
  {
   "cell_type": "markdown",
   "metadata": {},
   "source": [
    "## **Baseline Correction**"
   ]
  },
  {
   "cell_type": "code",
   "execution_count": null,
   "metadata": {},
   "outputs": [],
   "source": [
    "degree = 2\n",
    "poly_coeffs = np.polyfit(time, mean, degree)\n",
    "baseline = np.polyval(poly_coeffs, time)"
   ]
  },
  {
   "cell_type": "code",
   "execution_count": null,
   "metadata": {},
   "outputs": [],
   "source": [
    "plt.figure(figsize=(10,4))\n",
    "plt.plot(time, mean, 'g', label=\"Original Values\")\n",
    "plt.plot(time, baseline, '--r', label=\"Baseline Values\", linewidth=2)\n",
    "plt.xlabel(\"Time\")\n",
    "plt.ylabel(\"Signal Intensity\")\n",
    "plt.title(\"Original and Baseline Values\")\n",
    "plt.legend()\n",
    "plt.show()"
   ]
  },
  {
   "cell_type": "code",
   "execution_count": null,
   "metadata": {},
   "outputs": [],
   "source": [
    "baseline_corrected_values = mean - baseline\n",
    "\n",
    "plt.figure(figsize=(10,4))\n",
    "plt.plot(time, mean, 'g', label=\"Original Values\")\n",
    "plt.plot(time, baseline_corrected_values, c=\"purple\", label=\"Baseline Corrected Values\")\n",
    "plt.xlabel(\"Time\")\n",
    "plt.ylabel(\"Signal Intensity\")\n",
    "plt.title(\"Original and Baseline Corrected Values\")\n",
    "plt.grid()\n",
    "plt.legend()\n",
    "plt.show()"
   ]
  },
  {
   "cell_type": "markdown",
   "metadata": {},
   "source": [
    "## **Normalizing Data**"
   ]
  },
  {
   "cell_type": "markdown",
   "metadata": {},
   "source": [
    "**Here we use min-max scaling to normalize the data**"
   ]
  },
  {
   "cell_type": "code",
   "execution_count": null,
   "metadata": {},
   "outputs": [],
   "source": [
    "min_value = np.min(baseline_corrected_values)\n",
    "max_value = np.max(baseline_corrected_values)\n",
    "\n",
    "normalized_data = (baseline_corrected_values - min_value) / (max_value - min_value)"
   ]
  },
  {
   "cell_type": "code",
   "execution_count": null,
   "metadata": {},
   "outputs": [],
   "source": [
    "plt.figure(figsize=(10,4))\n",
    "plt.plot(time, normalized_data, c=\"purple\")\n",
    "plt.xlabel(\"Time\")\n",
    "plt.ylabel(\"Signal Intensity\")\n",
    "plt.title(\"Normalized Signal: Mean\")\n",
    "plt.grid()\n",
    "plt.show()"
   ]
  },
  {
   "cell_type": "markdown",
   "metadata": {},
   "source": [
    "# **Euler's Method**"
   ]
  },
  {
   "cell_type": "code",
   "execution_count": null,
   "metadata": {},
   "outputs": [],
   "source": [
    "# Parameters\n",
    "IP3 = 0.5\n",
    "v1 = 6\n",
    "v2 = 0.11\n",
    "v3 = 0.9\n",
    "c0 = 2\n",
    "c1 = 0.185\n",
    "a2 = 0.2\n",
    "d1 = 0.13\n",
    "d2 = 1.049\n",
    "d3 = 0.9434\n",
    "d5 = 0.08234\n",
    "k3 = 0.1\n",
    "\n",
    "# Time points\n",
    "time_points = np.arange(0, 100, 0.1) \n",
    "dt = np.diff(time_points, prepend=0.1)  \n",
    "\n",
    "# Initial conditions\n",
    "Ca = np.zeros(len(time_points))\n",
    "h = np.zeros(len(time_points))\n",
    "Ca[0] = 0.1\n",
    "h[0] = 0.1"
   ]
  },
  {
   "cell_type": "code",
   "execution_count": null,
   "metadata": {},
   "outputs": [],
   "source": [
    "# Simulation loop\n",
    "for t in range(1, len(time_points)):\n",
    "    \n",
    "    CaER = (c0 - Ca[t-1]) / c1\n",
    "\n",
    "    # Steady-state functions\n",
    "    pinf = IP3 / (IP3 + d1)\n",
    "    ninf = Ca[t-1] / (Ca[t-1] + d5)\n",
    "    Q2 = d2 * (IP3 + d1) / (IP3 + d3)\n",
    "\n",
    "    # h-related functions\n",
    "    tauh = 1 / (a2 * (Q2 + Ca[t-1]))\n",
    "    hinf = Q2 / (Q2 + Ca[t-1])\n",
    "    alphah = hinf / tauh\n",
    "    betah = (1 - hinf) / tauh\n",
    "\n",
    "    # Rate of change for h (equation 2)\n",
    "    dh = alphah * (1 - h[t-1]) - betah * h[t-1]\n",
    "\n",
    "    # Rate of change for Ca (equation 1) with corrected powers and multiplications\n",
    "    dCa = (c1 * v1 * pinf**3 * ninf**3 * h[t-1]**3 * (CaER - Ca[t-1])\n",
    "           + c1 * v2 * (CaER - Ca[t-1])\n",
    "           - v3 * (Ca[t-1]**2 / (Ca[t-1]**2 + k3**2)))\n",
    "\n",
    "    # Update Ca and h values using the time step (dt)\n",
    "    Ca[t] = Ca[t-1] + dCa * dt[t-1]\n",
    "    h[t] = h[t-1] + dh * dt[t-1]"
   ]
  },
  {
   "cell_type": "code",
   "execution_count": null,
   "metadata": {},
   "outputs": [],
   "source": [
    "# Plot\n",
    "plt.figure(figsize=(14, 5))\n",
    "plt.subplot(1,2,1)\n",
    "plt.plot(time, mean, c=\"brown\")\n",
    "plt.xlabel(\"Time\")\n",
    "plt.ylabel(\"Signal Intensity\")\n",
    "plt.title(\"Signal: Mean\")\n",
    "\n",
    "plt.subplot(1,2,2)\n",
    "plt.plot(time_points, Ca,'-b', linewidth=2 )\n",
    "plt.xlabel('Time (s)')\n",
    "plt.ylabel('$Ca^{2+}$')\n",
    "plt.title('Li-Rinzel Model Simulation')\n",
    "plt.grid()\n",
    "plt.show()"
   ]
  },
  {
   "cell_type": "markdown",
   "metadata": {},
   "source": [
    "# **Monte Carlo simulation**"
   ]
  },
  {
   "cell_type": "code",
   "execution_count": null,
   "metadata": {},
   "outputs": [],
   "source": [
    "np.random.seed(10)\n",
    "size1 = 30\n",
    "X_norm = np.random.uniform(5.75, 6.25, size1)\n",
    "Y_norm = np.random.uniform(0.075, 0.125, size1)\n",
    "Z_norm = np.random.uniform(0.875, 0.925, size1)\n",
    "\n",
    "v1_v2_v3 = [(X_norm[i], Y_norm[j], Z_norm[k]) for i in range(len(X_norm)) for j in range(len(Y_norm)) for k in range(len(Z_norm))]\n",
    "\n",
    "ca_matrix = []\n",
    "plot_counter = 0"
   ]
  },
  {
   "cell_type": "code",
   "execution_count": null,
   "metadata": {},
   "outputs": [],
   "source": [
    "for i in range(len(X_norm)):\n",
    "    for j in range(len(Y_norm)):\n",
    "        for k in range(len(Z_norm)):\n",
    "            # Constants\n",
    "            v1 = X_norm[i]\n",
    "            v2 = Y_norm[j]\n",
    "            v3 = Z_norm[k]\n",
    "            IP3 = 0.5\n",
    "            c0 = 2\n",
    "            c1 = 0.185\n",
    "            a2 = 0.2\n",
    "            d1 = 0.13\n",
    "            d2 = 1.049\n",
    "            d3 = 0.9434\n",
    "            d5 = 0.08234\n",
    "            k3 = 0.1\n",
    "\n",
    "            time_1 = np.arange(0, 575.1, 0.1)\n",
    "            dt = 0.1\n",
    "\n",
    "            \n",
    "            Ca = [0.1]\n",
    "            h = [0.1]\n",
    "\n",
    "        \n",
    "            for t in range(1, len(time_1)):\n",
    "                CaER = (c0 - Ca[t-1]) / c1\n",
    "                pinf = IP3 / (IP3 + d1)\n",
    "                ninf = Ca[t-1] / (Ca[t-1] + d5)\n",
    "                Q2 = d2 * (IP3 + d1) / (IP3 + d3)\n",
    "                tauh = 1 / (a2 * (Q2 + Ca[t-1]))\n",
    "                hinf = Q2 / (Q2 + Ca[t-1])\n",
    "                alphah = hinf / tauh\n",
    "                betah = (1 - hinf) / tauh\n",
    "\n",
    "                dh = alphah * (1 - h[t-1]) - betah * h[t-1]\n",
    "                dCa = c1 * v1 * pinf**3 * ninf**3 * h[t-1]**3 * (CaER - Ca[t-1]) + c1 * v2 * (CaER - Ca[t-1]) - v3 * Ca[t-1]**2 / (Ca[t-1]**2 + k3**2)\n",
    "                \n",
    "                Ca.append(Ca[t-1] + dCa * dt)\n",
    "                h.append(h[t-1] + dh * dt)\n",
    "\n",
    "            ca_matrix.append(Ca)\n",
    "            \n",
    "            # Increment the plot counter\n",
    "            plot_counter += 1\n",
    "\n",
    "print(f\"Total number of Ca2+ vs time plots generated: {plot_counter}\")"
   ]
  },
  {
   "cell_type": "markdown",
   "metadata": {},
   "source": [
    "### **Plots of some simulated data using various v1, v2 and v3**"
   ]
  },
  {
   "cell_type": "code",
   "execution_count": null,
   "metadata": {},
   "outputs": [],
   "source": [
    "np.random.seed(0)\n",
    "Ca_matrix = np.array(ca_matrix)\n",
    "index = np.random.choice(np.arange(0, size1**3), size=9, replace=False)\n",
    "\n",
    "plt.figure(figsize=(14,12))\n",
    "for i in range(len(index)):\n",
    "    plt.subplot(3,3,i+1)\n",
    "    plt.plot(time_1, Ca_matrix[i], 'b', linewidth=0.75)\n",
    "    plt.xlabel(\"Time (s)\")\n",
    "    plt.ylabel(\"$Ca^{2+}$\")\n",
    "    plt.title(f'v1 = {v1_v2_v3[index[i]][0]:.2f}, v2 = {v1_v2_v3[index[i]][1]:.2f}, v3 = {v1_v2_v3[index[i]][2]:.2f}', fontsize=10)\n",
    "    plt.grid()\n",
    "\n",
    "plt.tight_layout()\n",
    "plt.show()"
   ]
  },
  {
   "cell_type": "markdown",
   "metadata": {},
   "source": [
    "### **Experimental vs Simulated**"
   ]
  },
  {
   "cell_type": "markdown",
   "metadata": {},
   "source": [
    "#### **Example**"
   ]
  },
  {
   "cell_type": "code",
   "execution_count": null,
   "metadata": {},
   "outputs": [],
   "source": [
    "plt.figure(figsize=(14,4))\n",
    "plt.plot(time, normalized_data, 'g', alpha=1, linewidth=1.5, label=\"Experimental\")\n",
    "plt.plot(time_1, Ca_matrix[0], c=\"orange\", alpha=1, linewidth=1.5, label=\"Simulated\")\n",
    "plt.xlabel(\"Time (s)\")\n",
    "plt.ylabel(\"Signal Intensity\")\n",
    "plt.title(f\"Experimental vs Simulated (v1 = {v1_v2_v3[0][0]:.2f}, v2 = {v1_v2_v3[0][1]:.2f}, v3 = {v1_v2_v3[0][2]:.2f}) before interpolation\")\n",
    "plt.grid()\n",
    "plt.legend()\n",
    "plt.show()"
   ]
  },
  {
   "cell_type": "markdown",
   "metadata": {},
   "source": [
    "## **Interpolation of Simulated data**"
   ]
  },
  {
   "cell_type": "code",
   "execution_count": null,
   "metadata": {},
   "outputs": [],
   "source": [
    "dim = size1 * size1 * size1\n",
    "Ca_interpolated = np.zeros((len(time), dim))\n",
    "timef = time\n",
    "for k in range(dim):\n",
    "    Ca_interp_func = interp1d(time_1, Ca_matrix[k], kind=\"linear\", fill_value=\"extrapolate\")\n",
    "    Ca_interpolated[:, k] = Ca_interp_func(timef)\n",
    "Ca_final = Ca_interpolated.T"
   ]
  },
  {
   "cell_type": "code",
   "execution_count": null,
   "metadata": {},
   "outputs": [],
   "source": [
    "sim_data_df = pd.DataFrame(Ca_final)\n",
    "sim_data_df.to_excel(\"Data/Group6_Simulated_data\", index=False)"
   ]
  },
  {
   "cell_type": "markdown",
   "metadata": {},
   "source": [
    "#### **Example**"
   ]
  },
  {
   "cell_type": "code",
   "execution_count": null,
   "metadata": {},
   "outputs": [],
   "source": [
    "plt.figure(figsize=(14,4))\n",
    "plt.plot(time, normalized_data, 'g', alpha=1, linewidth=1.5, label=\"Experimental\")\n",
    "plt.plot(time, Ca_final[0], c=\"orange\", alpha=1, linewidth=1.5, label=\"Simulated\")\n",
    "plt.xlabel(\"Time (s)\")\n",
    "plt.ylabel(\"Signal Intensity\")\n",
    "plt.title(f\"Experimental vs Simulated (v1 = {v1_v2_v3[0][0]:.2f}, v2 = {v1_v2_v3[0][1]:.2f}, v3 = {v1_v2_v3[0][2]:.2f}) after interpolation\")\n",
    "plt.grid()\n",
    "plt.legend()\n",
    "plt.show()"
   ]
  },
  {
   "cell_type": "markdown",
   "metadata": {},
   "source": [
    "# **Principal Component Analysis (PCA)**"
   ]
  },
  {
   "cell_type": "code",
   "execution_count": null,
   "metadata": {},
   "outputs": [],
   "source": [
    "def cov_xy(x, y):\n",
    "    n = len(x)\n",
    "    cov = np.sum((x - np.mean(x)) * (y - np.mean(y))) / (n - 1)\n",
    "    return cov\n",
    "\n",
    "def covariance_matrix(n, data):\n",
    "\n",
    "    cov_mat = np.zeros((n, n))\n",
    "\n",
    "    for i in range(n):\n",
    "        for j in range(n):\n",
    "            cov_mat[i, j] = cov_xy(data[i], data[j])\n",
    "    \n",
    "    return cov_mat\n",
    "\n",
    "def eigen_in_descending(matrix):\n",
    "\n",
    "    eigenvalues, eigenvectors = np.linalg.eig(matrix)\n",
    "    descending_order = np.argsort(eigenvalues)[::-1] \n",
    "    sorted_eigenvalues = eigenvalues[descending_order]\n",
    "    sorted_eigenvectors = eigenvectors[:,descending_order]\n",
    "    \n",
    "    return sorted_eigenvalues, sorted_eigenvectors\n",
    "\n",
    "def pca(number_of_dimension, number_of_pc, data):\n",
    "\n",
    "    n = number_of_dimension\n",
    "    for i in range(n):\n",
    "        data.T[i] = data.T[i] - np.mean(data.T[i])\n",
    "    \n",
    "    cov_matrix = covariance_matrix(n, data.T)\n",
    "    eigenvalues, eigenvectors = eigen_in_descending(cov_matrix)\n",
    "\n",
    "    k = number_of_pc\n",
    "    reduced_data = np.matmul(data, eigenvectors[:,:k])\n",
    "\n",
    "    return reduced_data"
   ]
  },
  {
   "cell_type": "code",
   "execution_count": null,
   "metadata": {},
   "outputs": [],
   "source": [
    "Ca_final_pca = pca(len(time), 3, np.vstack([Ca_final, normalized_data]))\n",
    "pc1 = Ca_final_pca.T[0]\n",
    "pc2 = Ca_final_pca.T[1]\n",
    "pc3 = Ca_final_pca.T[2]"
   ]
  },
  {
   "cell_type": "code",
   "execution_count": null,
   "metadata": {},
   "outputs": [],
   "source": [
    "plt.figure(figsize=(12,8))\n",
    "plt.suptitle(\"Principal Component Analysis in 2-D\")\n",
    "\n",
    "\n",
    "plt.subplot(2,2,1)\n",
    "plt.scatter(pc1[:-1].real, pc2[:-1].real,  c='none', marker='o', ec='blue', s=50, label=\"Simulated\")\n",
    "plt.scatter(pc1[-1].real, pc2[-1].real,  c='none', marker='o', ec='red', s=100, label=\"Experimental\")\n",
    "plt.xlabel(\"Principal Component 1\")\n",
    "plt.ylabel(\"Principal Component 2\")\n",
    "plt.legend()\n",
    "plt.grid()\n",
    "\n",
    "plt.subplot(2,2,2)\n",
    "plt.scatter(pc2[:-1].real, pc3[:-1].real,  c='none', marker='o', ec='blue', s=50, label=\"Simulated\")\n",
    "plt.scatter(pc2[-1].real, pc3[-1].real,  c='none', marker='o', ec='red', s=100, label=\"Experimental\")\n",
    "plt.xlabel(\"Principal Component 2\")\n",
    "plt.ylabel(\"Principal Component 3\")\n",
    "plt.legend()\n",
    "plt.grid()\n",
    "\n",
    "plt.subplot(2,2,3)\n",
    "plt.scatter(pc1[:-1].real, pc3[:-1].real,  c='none', marker='o', ec='blue', s=50, label=\"Simulated\")\n",
    "plt.scatter(pc1[-1].real, pc3[-1].real,  c='none', marker='o', ec='red', s=100, label=\"Experimental\")\n",
    "plt.xlabel(\"Principal Component 1\")\n",
    "plt.ylabel(\"Principal Component 3\")\n",
    "plt.legend()\n",
    "plt.grid()\n",
    "\n",
    "plt.tight_layout()\n",
    "plt.show()"
   ]
  },
  {
   "cell_type": "code",
   "execution_count": null,
   "metadata": {},
   "outputs": [],
   "source": [
    "fig = plt.figure(figsize=(7,10))\n",
    "ax = fig.add_subplot(111, projection='3d')\n",
    "ax.scatter(pc1[:-1].real, pc2[:-1].real, pc3[:-1].real, color='blue', marker='o', s=50, depthshade=True, label=\"Simulated\")\n",
    "ax.scatter(pc1[-1].real, pc2[-1].real, pc3[-1].real, color='red', marker='o', s=100, depthshade=True, label=\"Experimental\")\n",
    "ax.set_xlabel('Principal Component 1')\n",
    "ax.set_ylabel('Principal Component 2')\n",
    "fig.text(0.73, 0.66, 'Principal Component 3')\n",
    "ax.set_title('3D Scatter Plot of Principal Components')\n",
    "ax.legend()\n",
    "plt.show()"
   ]
  },
  {
   "cell_type": "markdown",
   "metadata": {},
   "source": [
    "# **RMSE Comparison**"
   ]
  },
  {
   "cell_type": "code",
   "execution_count": null,
   "metadata": {},
   "outputs": [],
   "source": [
    "def rmse(exp_data, sim_data):\n",
    "    n = len(exp_data)\n",
    "    RMSE = np.sqrt(np.sum((exp_data - sim_data) ** 2) / n)\n",
    "    return RMSE"
   ]
  },
  {
   "cell_type": "code",
   "execution_count": null,
   "metadata": {},
   "outputs": [],
   "source": [
    "rmse_values = []\n",
    "\n",
    "for i in range(len(Ca_final)):\n",
    "    rmse_value = rmse(normalized_data, Ca_final[i])\n",
    "    rmse_values.append(rmse_value)\n",
    "\n",
    "rmse_values = np.array(rmse_values)"
   ]
  },
  {
   "cell_type": "code",
   "execution_count": null,
   "metadata": {},
   "outputs": [],
   "source": [
    "v = np.array(v1_v2_v3)\n",
    "fig = plt.figure(figsize=(16,8))\n",
    "\n",
    "ax = fig.add_subplot(131, projection='3d')\n",
    "ax.scatter(v[:,0], v[:,1], rmse_values, c=rmse_values, cmap='summer', marker='o', s=30)\n",
    "ax.set_xlabel('v1')\n",
    "ax.set_ylabel('v2')\n",
    "ax.set_title('RMSE as a function of v1 and v2')\n",
    "\n",
    "ax = fig.add_subplot(132, projection='3d')\n",
    "ax.scatter(v[:,1], v[:,2], rmse_values, c=rmse_values,  cmap='autumn', marker='o', s=30)\n",
    "ax.set_xlabel('v2')\n",
    "ax.set_ylabel('v3')\n",
    "ax.set_title('RMSE as a function of v2 and v3')\n",
    "\n",
    "ax = fig.add_subplot(133, projection='3d')\n",
    "ax.scatter(v[:,0], v[:,2], rmse_values, c=rmse_values,  cmap='winter', marker='o', s=30)\n",
    "ax.set_xlabel('v1')\n",
    "ax.set_ylabel('v3')\n",
    "ax.set_title('RMSE as a function of v1 and v3')\n",
    "\n",
    "\n",
    "fig.text(0.30, 0.69, \"RMSE value\")\n",
    "fig.text(0.63, 0.69, \"RMSE value\")\n",
    "fig.text(0.96, 0.69, \"RMSE value\")\n",
    "plt.tight_layout()\n",
    "plt.show()"
   ]
  },
  {
   "cell_type": "markdown",
   "metadata": {},
   "source": [
    "## **Top 5 Best Fit from RMSE values**"
   ]
  },
  {
   "cell_type": "code",
   "execution_count": null,
   "metadata": {},
   "outputs": [],
   "source": [
    "min_ind = np.argmin(rmse_values)\n",
    "max_ind = np.argmax(rmse_values)\n",
    "\n",
    "sorted_indices = np.argsort(rmse_values)\n",
    "top_5_smallest_indices = sorted_indices[:5]\n",
    "\n",
    "rmse_df = pd.DataFrame({\"v1\": v[top_5_smallest_indices].T[0],\n",
    "                        \"v2\": v[top_5_smallest_indices].T[1],\n",
    "                        \"v3\": v[top_5_smallest_indices].T[2],\n",
    "                        \"RMSE\": rmse_values[top_5_smallest_indices]})\n",
    "\n",
    "rmse_df"
   ]
  },
  {
   "cell_type": "code",
   "execution_count": null,
   "metadata": {},
   "outputs": [],
   "source": [
    "fig, axes = plt.subplots(5,1, figsize=(15,12), sharex=True)\n",
    "plt.suptitle(\"Top 5 best fit for the Experimental data from RMSE values\")\n",
    "\n",
    "for i in range(5):\n",
    "    ax = axes[i]\n",
    "    ax.plot(time, normalized_data, 'g', alpha=1, linewidth=1.5, label=\"Experimental\")\n",
    "    ax.plot(time, Ca_final[top_5_smallest_indices[i]], c=\"orange\", alpha=1, linewidth=1.5, label=\"Simulated\")\n",
    "    ax.set_ylabel(\"Signal Intensity\")\n",
    "    ax.text(90, 0.8,\"v1 = {:.4f}    v2 = {:.4f}    v3 = {:.4f}    RMSE = {:.4f}\".format(v[top_5_smallest_indices].T[0][i],\n",
    "            v[top_5_smallest_indices].T[1][i], v[top_5_smallest_indices].T[2][i], rmse_values[top_5_smallest_indices][i]), fontsize=12)\n",
    "    ax.grid()\n",
    "    ax.legend()\n",
    "\n",
    "plt.xlabel(\"Time (s)\")\n",
    "plt.tight_layout()\n",
    "plt.show()"
   ]
  },
  {
   "cell_type": "markdown",
   "metadata": {},
   "source": [
    "# **Frequency Comparison**"
   ]
  },
  {
   "cell_type": "code",
   "execution_count": null,
   "metadata": {},
   "outputs": [],
   "source": [
    "def frequency(data):\n",
    "    autocorr = np.correlate(data, data, mode='full')\n",
    "    autocorr = autocorr[autocorr.size // 2:] \n",
    "\n",
    "    peaks = np.where((autocorr[1:-1] > autocorr[:-2]) & (autocorr[1:-1] > autocorr[2:]))[0]\n",
    "    if len(peaks) > 0:\n",
    "        period = peaks[0] + 1 \n",
    "        freq = 1 / period\n",
    "\n",
    "    return freq"
   ]
  },
  {
   "cell_type": "code",
   "execution_count": null,
   "metadata": {},
   "outputs": [],
   "source": [
    "exp_data_freq = frequency(normalized_data)\n",
    "print(f\"The rough frequency of experimental data is {exp_data_freq}\")"
   ]
  },
  {
   "cell_type": "code",
   "execution_count": null,
   "metadata": {},
   "outputs": [],
   "source": [
    "simulated_freq = []\n",
    "\n",
    "for i in range(len(Ca_final)):\n",
    "    freq = frequency(Ca_final[i])\n",
    "    simulated_freq.append(freq)\n",
    "\n",
    "simulated_freq = np.array(simulated_freq)"
   ]
  },
  {
   "cell_type": "code",
   "execution_count": null,
   "metadata": {},
   "outputs": [],
   "source": [
    "frequency_differce = np.abs(simulated_freq - exp_data_freq)\n",
    "frequency_differce.shape"
   ]
  },
  {
   "cell_type": "markdown",
   "metadata": {},
   "source": [
    "## **Top 5 Best Fit from Frequency Difference**"
   ]
  },
  {
   "cell_type": "code",
   "execution_count": null,
   "metadata": {},
   "outputs": [],
   "source": [
    "sorted_index = np.argsort(frequency_differce)\n",
    "top_5_smallest_index = sorted_index[:5]\n",
    "\n",
    "freq_df = pd.DataFrame({\"v1\": v[top_5_smallest_index].T[0],\n",
    "                        \"v2\": v[top_5_smallest_index].T[1],\n",
    "                        \"v3\": v[top_5_smallest_index].T[2],\n",
    "                        \"Frequency Difference\": frequency_differce[top_5_smallest_index]})\n",
    "freq_df"
   ]
  },
  {
   "cell_type": "code",
   "execution_count": null,
   "metadata": {},
   "outputs": [],
   "source": [
    "fig, axes = plt.subplots(5,1, figsize=(15,12), sharex=True)\n",
    "plt.suptitle(\"Top 5 best fit for the Experimental data from frequncy difference\")\n",
    "\n",
    "for i in range(5):\n",
    "    ax = axes[i]\n",
    "    ax.plot(time, normalized_data, 'g', alpha=1, linewidth=1.5, label=\"Experimental\")\n",
    "    ax.plot(time, Ca_final[top_5_smallest_index[i]], c=\"orange\", alpha=1, linewidth=1.5, label=\"Simulated\")\n",
    "    ax.set_ylabel(\"Signal Intensity\")\n",
    "    ax.text(90, 0.8,\"v1 = {:.4f}    v2 = {:.4f}    v3 = {:.4f}    Frequency diff = {:.4f}\".format(v[top_5_smallest_index].T[0][i],\n",
    "            v[top_5_smallest_index].T[1][i], v[top_5_smallest_index].T[2][i], frequency_differce[top_5_smallest_index][i]), fontsize=12)\n",
    "    ax.grid()\n",
    "    ax.legend()\n",
    "\n",
    "plt.xlabel(\"Time (s)\")\n",
    "plt.tight_layout()\n",
    "plt.show()"
   ]
  }
 ],
 "metadata": {
  "kernelspec": {
   "display_name": "Python 3 (ipykernel)",
   "language": "python",
   "name": "python3"
  },
  "language_info": {
   "codemirror_mode": {
    "name": "ipython",
    "version": 3
   },
   "file_extension": ".py",
   "mimetype": "text/x-python",
   "name": "python",
   "nbconvert_exporter": "python",
   "pygments_lexer": "ipython3",
   "version": "3.11.4"
  }
 },
 "nbformat": 4,
 "nbformat_minor": 2
}
